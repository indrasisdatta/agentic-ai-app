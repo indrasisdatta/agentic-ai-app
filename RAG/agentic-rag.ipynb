{
 "cells": [
  {
   "cell_type": "code",
   "execution_count": null,
   "id": "cd15eab3",
   "metadata": {},
   "outputs": [],
   "source": [
    "import os\n",
    "from dotenv import load_dotenv\n",
    "load_dotenv(override=True)\n",
    "\n",
    "os.environ['GROQ_API_KEY'] = os.getenv('GROQ_API_KEY')\n",
    "os.environ[\"LANGCHAIN_API_KEY\"] = os.getenv('LANGCHAIN_API_KEY')\n",
    "MODEL_NAME = \"llama-3.1-8b-instant\""
   ]
  },
  {
   "cell_type": "code",
   "execution_count": null,
   "id": "2ca6d6fb",
   "metadata": {},
   "outputs": [],
   "source": [
    "from langchain_community.document_loaders import WebBaseLoader \n",
    "from langchain_community.vectorstores import FAISS \n",
    "from langchain_text_splitters import RecursiveCharacterTextSplitter\n",
    "from langchain_huggingface import HuggingFaceEmbeddings"
   ]
  },
  {
   "cell_type": "code",
   "execution_count": null,
   "id": "d0abe7a7",
   "metadata": {},
   "outputs": [],
   "source": [
    "urls = [\n",
    "    'https://docs.langchain.com/oss/python/langgraph/streaming',\n",
    "    'https://docs.langchain.com/oss/python/langgraph/interrupts',\n",
    "    'https://docs.langchain.com/oss/python/langgraph/persistence'\n",
    "]\n",
    "\n",
    "docs = [WebBaseLoader(url).load() for url in urls]\n",
    "docs"
   ]
  },
  {
   "cell_type": "code",
   "execution_count": null,
   "id": "3eb1f900",
   "metadata": {},
   "outputs": [],
   "source": [
    "doc_list = [doc for sublist in docs for doc in sublist]\n",
    "doc_list\n",
    "\n",
    "text_splitter = RecursiveCharacterTextSplitter(chunk_size=1000, chunk_overlap=100)\n",
    "doc_splits = text_splitter.split_documents(doc_list)\n",
    "doc_splits"
   ]
  },
  {
   "cell_type": "code",
   "execution_count": 5,
   "id": "a998b6bc",
   "metadata": {},
   "outputs": [],
   "source": [
    "embeddings = HuggingFaceEmbeddings(model_name=\"all-MiniLM-L6-v2\")\n",
    "vectorstore = FAISS.from_documents(documents=doc_splits, embedding=embeddings)\n",
    "\n",
    "retriever = vectorstore.as_retriever()"
   ]
  },
  {
   "cell_type": "code",
   "execution_count": null,
   "id": "9b11673a",
   "metadata": {},
   "outputs": [],
   "source": [
    "retriever.invoke(\"How to get the full history of Graph execution?\")"
   ]
  },
  {
   "cell_type": "code",
   "execution_count": 7,
   "id": "33296c2c",
   "metadata": {},
   "outputs": [],
   "source": [
    "# Retriever to retriever tools \n",
    "\n",
    "from langchain.tools.retriever import create_retriever_tool \n",
    "from langchain.tools import Tool\n",
    "\n",
    "retreiever_tool = create_retriever_tool(\n",
    "    retriever,\n",
    "    \"retriever_vector_db_blog\",\n",
    "    \"Search and run information about LangGraph\"\n",
    ")\n",
    "# retreiever_tool = Tool(\n",
    "#     name=\"retriever_vector_db_blog\",\n",
    "#     func=retriever.invoke,\n",
    "#     description=\"Search and run information about LangGraph\"\n",
    "# )"
   ]
  },
  {
   "cell_type": "markdown",
   "id": "2175cc92",
   "metadata": {},
   "source": [
    "### LangChain retriever and tool"
   ]
  },
  {
   "cell_type": "code",
   "execution_count": null,
   "id": "2d7151b2",
   "metadata": {},
   "outputs": [],
   "source": [
    "urls = [\n",
    "    'https://docs.langchain.com/oss/python/langchain/install',\n",
    "    'https://docs.langchain.com/oss/python/langchain/models',\n",
    "    'https://docs.langchain.com/oss/python/langchain/middleware'\n",
    "]\n",
    "\n",
    "docs = [WebBaseLoader(url).load() for url in urls]\n",
    "\n",
    "doc_list = [doc for sublist in docs for doc in sublist]\n",
    "\n",
    "text_splitter = RecursiveCharacterTextSplitter(chunk_size=1000, chunk_overlap=100)\n",
    "doc_splits = text_splitter.split_documents(doc_list)\n",
    "\n",
    "embeddings = HuggingFaceEmbeddings(model_name=\"all-MiniLM-L6-v2\")\n",
    "vectorstore_langchain = FAISS.from_documents(documents=doc_splits, embedding=embeddings)\n",
    "\n",
    "retriever_langchain = vectorstore_langchain.as_retriever()\n",
    "\n",
    "retriever_langchain.invoke(\"What's the command for Langchain Open AI integration?\")"
   ]
  },
  {
   "cell_type": "code",
   "execution_count": 9,
   "id": "bf2e604e",
   "metadata": {},
   "outputs": [],
   "source": [
    "retreiever_tool_langchain = create_retriever_tool(\n",
    "    retriever_langchain,\n",
    "    \"retriever_vector_langchain_blog\",\n",
    "    \"Search and run information about LangChain\"\n",
    ")\n",
    "# retreiever_tool_langchain = Tool(\n",
    "#     name=\"retriever_vector_langchain_blog\",\n",
    "#     func=retriever_langchain.invoke,\n",
    "#     description=\"Retrieve relevant documents about LangChain.\"\n",
    "# )\n"
   ]
  },
  {
   "cell_type": "code",
   "execution_count": 18,
   "id": "e155b6c2",
   "metadata": {},
   "outputs": [],
   "source": [
    "tools = [retreiever_tool, retreiever_tool_langchain]"
   ]
  },
  {
   "cell_type": "markdown",
   "id": "da9dc398",
   "metadata": {},
   "source": [
    "### LangGraph Workflow"
   ]
  },
  {
   "cell_type": "code",
   "execution_count": 11,
   "id": "507a9fbe",
   "metadata": {},
   "outputs": [],
   "source": [
    "from typing import Annotated, Sequence \n",
    "from typing_extensions import TypedDict, Literal \n",
    "from pydantic import BaseModel, Field\n",
    "from langchain import hub\n",
    "from langchain_core.prompts import PromptTemplate\n",
    "from langchain_core.messages import BaseMessage, HumanMessage\n",
    "from langchain_core.output_parsers import StrOutputParser\n",
    "from langgraph.graph.message import add_messages\n",
    "\n",
    "class AgentState(TypedDict):\n",
    "    messages: Annotated[Sequence[BaseMessage], add_messages]"
   ]
  },
  {
   "cell_type": "code",
   "execution_count": 12,
   "id": "8f9f1ca3",
   "metadata": {},
   "outputs": [],
   "source": [
    "from langchain_groq import ChatGroq\n",
    "os.environ['GROQ_API_KEY'] = os.getenv('GROQ_API_KEY')\n",
    "\n",
    "llm = ChatGroq(model=MODEL_NAME)\n"
   ]
  },
  {
   "cell_type": "code",
   "execution_count": 13,
   "id": "dc482f00",
   "metadata": {},
   "outputs": [],
   "source": [
    "def agent(state):\n",
    "    \"\"\"\n",
    "    Invokes the agent model to generate a response based on the current state. Given the question, it will decide whether to retrieve using the retriever tool or simply end.\n",
    "\n",
    "    Args: \n",
    "        state (messages): the current state \n",
    "    Returns: \n",
    "        dict: The updated state with agent response appended to the messages\n",
    "    \"\"\"\n",
    "    print(\"--- CALL Agent ---\")\n",
    "    messages = state['messages']\n",
    "    model = ChatGroq(model=MODEL_NAME)\n",
    "    model = model.bind_tools(tools)\n",
    "\n",
    "    response = model.invoke(messages)\n",
    "\n",
    "    print(\"--- Agent response: \", response)\n",
    "\n",
    "    return {\"messages\": [response]}"
   ]
  },
  {
   "cell_type": "code",
   "execution_count": 34,
   "id": "c2014480",
   "metadata": {},
   "outputs": [],
   "source": [
    "# Edges \n",
    "def grade_documents(state) -> Literal[\"generate\", \"rewrite\"]:\n",
    "    \"\"\"\n",
    "    Determines whether the retreived documents are relevant to the question. \n",
    "\n",
    "    Args: \n",
    "        state (messages): The current state. \n",
    "    Returns: \n",
    "        str: A decision for whether the documents are relevant or not.\n",
    "    \"\"\"\n",
    "    print(\"--- CHECK RELEVANCE ---\")\n",
    "\n",
    "    class grade(BaseModel):\n",
    "        \"\"\"Binary score for relevance check\"\"\"\n",
    "\n",
    "        binary_score: str = Field(description=\"Relevance score 'yes' or 'no'\")\n",
    "\n",
    "    model = ChatGroq(model=MODEL_NAME)\n",
    "    # LLM with tool and validation\n",
    "    llm_with_tool = model.with_structured_output(grade)\n",
    "\n",
    "    prompt = PromptTemplate(\n",
    "        template=\"\"\"You are a grader assessing relevance of retrieved documents for a user's question.\\n\n",
    "        Here is the retrieved document: \\n\\n{context}\\n\\n\n",
    "        Here is the user's question: \\n{question}\\n\\n\n",
    "        If the document contains relevant keywords or semantic meaning related to the user question, grade it as relevant.\\n\n",
    "        Give a binary score 'yes' or 'no' score to indicate whether the document is relevant to the question.\n",
    "        \"\"\",\n",
    "        input_variables=[\"context\", \"question\"]\n",
    "    )\n",
    "    chain = prompt | llm_with_tool\n",
    "\n",
    "    messages = state['messages']\n",
    "    last_message = messages[-1]\n",
    "    question = messages[0].content \n",
    "    docs = last_message.content\n",
    "\n",
    "    scored_result = chain.invoke({\"question\": question, \"context\": docs})\n",
    "    \n",
    "    print(\"Scored result: \", scored_result)\n",
    "\n",
    "    # Handle both possible return types\n",
    "    # if isinstance(scored_result, dict):\n",
    "    #     score = scored_result.get(\"binary_score\")\n",
    "    # else:\n",
    "    #     score = getattr(scored_result, \"binary_score\", None)\n",
    "\n",
    "    score = scored_result.binary_score\n",
    "    print(\"Score:\", score)\n",
    "\n",
    "    if score == 'yes':\n",
    "        print(\"---DECISION DOCS RELEVANT---\", score)\n",
    "        return \"generate\"\n",
    "    else: \n",
    "        print(\"---DECISION DOCS NOT RELEVANT---\", score)\n",
    "        return \"rewrite\""
   ]
  },
  {
   "cell_type": "code",
   "execution_count": 35,
   "id": "a18dba94",
   "metadata": {},
   "outputs": [],
   "source": [
    "def generate(state):\n",
    "    \"\"\"\n",
    "    Generate answer\n",
    "\n",
    "    Args: \n",
    "        state (messages): The current state. \n",
    "    Returns: \n",
    "        dict: The updated message.\n",
    "    \"\"\"\n",
    "    print(\"--- GENERATE ANSWER ---\")\n",
    "    messages = state['messages']\n",
    "    last_message = messages[-1]\n",
    "    question = messages[0].content \n",
    "    docs = last_message.content\n",
    "\n",
    "    # prompt = hub.pull('rlm/rag-default-prompt')\n",
    "\n",
    "    prompt = PromptTemplate(\n",
    "        template=(\n",
    "            \"You are a helpful AI assistant.\\n\"\n",
    "            \"Use the following retrieved context to answer the user question accurately.\\n\\n\"\n",
    "            \"Context:\\n{content}\\n\\n\"\n",
    "            \"Question:\\n{question}\\n\\n\"\n",
    "            \"Answer:\"\n",
    "        ),\n",
    "        input_variables=[\"content\", \"question\"],\n",
    "    )\n",
    "\n",
    "    llm = ChatGroq(model=MODEL_NAME)\n",
    "\n",
    "    # Post processing\n",
    "    def format_docs(docs):\n",
    "        return \"\\n\\n\".join(doc.page_content for doc in docs)\n",
    "    \n",
    "    # Chain\n",
    "    rag_chain = prompt | llm | StrOutputParser()\n",
    "\n",
    "    # Run \n",
    "    response = rag_chain.invoke({\"content\": docs, \"question\": question})\n",
    "    return {\"messages\": [response]}\n"
   ]
  },
  {
   "cell_type": "code",
   "execution_count": 36,
   "id": "a917b0d7",
   "metadata": {},
   "outputs": [],
   "source": [
    "def rewrite(state):\n",
    "    \"\"\"\n",
    "    Transform the query to produce a better question.\n",
    "\n",
    "    Args:\n",
    "        state (messages): The current state\n",
    "    Returns: \n",
    "        dict: The updated state with rephrased question\n",
    "    \"\"\"\n",
    "    print(\"--- TRANSFORM QUERY ---\")\n",
    "    messages = state['messages']\n",
    "    question = messages[0].content \n",
    "\n",
    "    msg = [\n",
    "        HumanMessage(\n",
    "            content=f\"\"\"\\n Look at the input and try to reason about the underlying semantic intent/meaning.\\n\n",
    "            Here is the initial question:\\n\n",
    "            \\n--------\\n\n",
    "            {question}\n",
    "            \\n--------\\n\n",
    "            Formulate the improved question: \n",
    "            \"\"\"\n",
    "        )\n",
    "    ]\n",
    "\n",
    "    model = ChatGroq(model=MODEL_NAME)\n",
    "    response = model.invoke(msg)\n",
    "    return {\"messages\": [response]}"
   ]
  },
  {
   "cell_type": "code",
   "execution_count": 37,
   "id": "1903e784",
   "metadata": {},
   "outputs": [
    {
     "data": {
      "image/png": "[encoded data removed]",
      "text/plain": [
       "<IPython.core.display.Image object>"
      ]
     },
     "metadata": {},
     "output_type": "display_data"
    }
   ],
   "source": [
    "from langgraph.graph import START, END, StateGraph \n",
    "from langgraph.prebuilt import ToolNode, tools_condition \n",
    "\n",
    "# Define a new graph \n",
    "workflow = StateGraph(AgentState)\n",
    "\n",
    "# Define the nodes\n",
    "workflow.add_node(\"agent\", agent)\n",
    "retrieve = ToolNode([retreiever_tool, retreiever_tool_langchain])\n",
    "workflow.add_node(\"retrieve\", retrieve)\n",
    "workflow.add_node(\"rewrite\", rewrite)\n",
    "workflow.add_node(\"generate\", generate) # Generate resp after we know the relevant docs \n",
    "\n",
    "# Edges \n",
    "workflow.add_edge(START, \"agent\")\n",
    "workflow.add_conditional_edges(\n",
    "    \"agent\",\n",
    "    # Assess agent decision\n",
    "    tools_condition,\n",
    "    {\n",
    "        \"tools\": \"retrieve\",\n",
    "        END: END\n",
    "    }\n",
    ")\n",
    "# Edges taken after the \"action\" node is called\n",
    "workflow.add_conditional_edges(\"retrieve\", grade_documents)\n",
    "workflow.add_edge(\"generate\", END)\n",
    "workflow.add_edge(\"rewrite\", \"agent\")\n",
    "\n",
    "graph = workflow.compile()\n",
    "\n",
    "from IPython.display import Image, display \n",
    "\n",
    "display(Image(graph.get_graph(xray=True).draw_mermaid_png()))\n",
    "\n",
    "\n"
   ]
  },
  {
   "cell_type": "code",
   "execution_count": null,
   "id": "1a9198de",
   "metadata": {},
   "outputs": [
    {
     "name": "stdout",
     "output_type": "stream",
     "text": [
      "--- CALL Agent ---\n",
      "--- Agent response:  content='' additional_kwargs={'tool_calls': [{'id': 'm4a0fxavb', 'function': {'arguments': '{\"query\":\"What is LangChain?\"}', 'name': 'retriever_vector_langchain_blog'}, 'type': 'function'}]} response_metadata={'token_usage': {'completion_tokens': 22, 'prompt_tokens': 310, 'total_tokens': 332, 'completion_time': 0.02935421, 'prompt_time': 0.018707355, 'queue_time': 0.053183465, 'total_time': 0.048061565}, 'model_name': 'llama-3.1-8b-instant', 'system_fingerprint': 'fp_7b3cfae3af', 'service_tier': 'on_demand', 'finish_reason': 'tool_calls', 'logprobs': None} id='run--1856e64a-40db-4259-846e-ae7d970f93d7-0' tool_calls=[{'name': 'retriever_vector_langchain_blog', 'args': {'query': 'What is LangChain?'}, 'id': 'm4a0fxavb', 'type': 'tool_call'}] usage_metadata={'input_tokens': 310, 'output_tokens': 22, 'total_tokens': 332}\n",
      "--- CHECK RELEVANCE ---\n",
      "Scored result:  binary_score='yes'\n",
      "Score: yes\n",
      "---DECISION DOCS RELEVANT--- yes\n",
      "--- GENERATE ANSWER ---\n"
     ]
    },
    {
     "data": {
      "text/plain": [
       "{'messages': [HumanMessage(content='What is LangChain?', additional_kwargs={}, response_metadata={}, id='725366d9-00c3-451a-be5d-c1067a287bf0'),\n",
       "  AIMessage(content='', additional_kwargs={'tool_calls': [{'id': 'm4a0fxavb', 'function': {'arguments': '{\"query\":\"What is LangChain?\"}', 'name': 'retriever_vector_langchain_blog'}, 'type': 'function'}]}, response_metadata={'token_usage': {'completion_tokens': 22, 'prompt_tokens': 310, 'total_tokens': 332, 'completion_time': 0.02935421, 'prompt_time': 0.018707355, 'queue_time': 0.053183465, 'total_time': 0.048061565}, 'model_name': 'llama-3.1-8b-instant', 'system_fingerprint': 'fp_7b3cfae3af', 'service_tier': 'on_demand', 'finish_reason': 'tool_calls', 'logprobs': None}, id='run--1856e64a-40db-4259-846e-ae7d970f93d7-0', tool_calls=[{'name': 'retriever_vector_langchain_blog', 'args': {'query': 'What is LangChain?'}, 'id': 'm4a0fxavb', 'type': 'tool_call'}], usage_metadata={'input_tokens': 310, 'output_tokens': 22, 'total_tokens': 332}),\n",
       "  ToolMessage(content='LangChain provides integrations to hundreds of LLMs and thousands of other integrations. These live in independent provider packages. For example:\\npipuvCopyAsk AI# Installing the OpenAI integration\\npip install -U langchain-openai\\n\\n# Installing the Anthropic integration\\npip install -U langchain-anthropic\\n\\nSee the Integrations tab for a full list of available integrations.\\n\\nEdit the source of this page on GitHub.\\nConnect these docs programmatically to Claude, VSCode, and more via MCP for    real-time answers.Was this page helpful?YesNoLangChain v1 migration guidePreviousQuickstartNext⌘IDocs by LangChain home pagegithubxlinkedinyoutubeResourcesForumChangelogLangChain AcademyTrust CenterCompanyAboutCareersBloggithubxlinkedinyoutubePowered by Mintlify\\n\\nAdvanced streaming topics\"Auto-streaming\" chat modelsLangChain simplifies streaming from chat models by automatically enabling streaming mode in certain cases, even when you’re not explicitly calling the streaming methods. This is particularly useful when you use the non-streaming invoke method but still want to stream the entire application, including intermediate results from the chat model.In LangGraph agents, for example, you can call model.invoke() within nodes, but LangChain will automatically delegate to streaming if running in a streaming mode.\\u200bHow it worksWhen you invoke() a chat model, LangChain will automatically switch to an internal streaming mode if it detects that you are trying to stream the overall application. The result of the invocation will be the same as far as the code that was using invoke is concerned; however, while the chat model is being streamed, LangChain will take care of invoking on_llm_new_token events in LangChain’s callback system.Callback events\\n\\nInstall LangChain - Docs by LangChainSkip to main contentWe\\'ve raised a $125M Series B to build the platform for agent engineering. Read more.Docs by LangChain home pageLangChain + LangGraphSearch...⌘KGitHubTry LangSmithTry LangSmithSearch...NavigationGet startedInstall LangChainLangChainLangGraphDeep AgentsIntegrationsLearnReferenceContributePythonOverviewLangChain v1.0Release notesMigration guideGet startedInstallQuickstartPhilosophyCore componentsAgentsModelsMessagesToolsShort-term memoryStreamingMiddlewareStructured outputAdvanced usageGuardrailsRuntimeContext engineeringModel Context Protocol (MCP)Human-in-the-loopMulti-agentRetrievalLong-term memoryUse in productionStudioTestDeployAgent Chat UIObservabilityGet startedInstall LangChainCopy pageCopy pageTo install the LangChain package:\\npipuvCopyAsk AIpip install -U langchain\\n\\nCopyAsk AIfrom langchain.agents import create_agent\\nfrom langchain.agents.middleware import TodoListMiddleware\\nfrom langchain.messages import HumanMessage', name='retriever_vector_langchain_blog', id='f7e0a806-750d-424f-94ed-5df2e9eb26e2', tool_call_id='m4a0fxavb'),\n",
       "  HumanMessage(content='LangChain is an open-source, Python-based platform for building and integrating various AI models, including large language models (LLMs), into various applications. It simplifies the process of using AI models by providing a unified interface and integrating with hundreds of LLMs and thousands of other libraries through independent provider packages. LangChain also enables real-time integration with other tools and platforms, such as VSCode and more, via its Model Context Protocol (MCP).', additional_kwargs={}, response_metadata={}, id='46f914a2-71d1-46c2-8fd9-3cb222eb5618')]}"
      ]
     },
     "execution_count": 38,
     "metadata": {},
     "output_type": "execute_result"
    }
   ],
   "source": [
    "graph.invoke({\"messages\": \"How to create parallel workflow in LangGraph?\"})"
   ]
  }
 ],
 "metadata": {
  "kernelspec": {
   "display_name": "Python 3",
   "language": "python",
   "name": "python3"
  },
  "language_info": {
   "codemirror_mode": {
    "name": "ipython",
    "version": 3
   },
   "file_extension": ".py",
   "mimetype": "text/x-python",
   "name": "python",
   "nbconvert_exporter": "python",
   "pygments_lexer": "ipython3",
   "version": "3.12.0"
  }
 },
 "nbformat": 4,
 "nbformat_minor": 5
}
