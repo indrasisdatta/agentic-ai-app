{
 "cells": [
  {
   "cell_type": "code",
   "execution_count": null,
   "id": "b4bd502b",
   "metadata": {},
   "outputs": [],
   "source": [
    "from typing_extensions import TypedDict \n",
    "from pydantic import BaseModel\n",
    "from langgraph.graph import StateGraph, START, END \n",
    "\n",
    "# Reducers \n",
    "from typing import Annotated \n",
    "from langgraph.graph.message import add_messages"
   ]
  },
  {
   "cell_type": "code",
   "execution_count": null,
   "id": "10e40dc9",
   "metadata": {},
   "outputs": [],
   "source": [
    "# class State(TypedDict):\n",
    "#     messages: Annotated[list, add_messages]\n",
    "\n",
    "class State(BaseModel):\n",
    "    messages: Annotated[list, add_messages]"
   ]
  },
  {
   "cell_type": "code",
   "execution_count": 5,
   "id": "44998c8a",
   "metadata": {},
   "outputs": [],
   "source": [
    "import os \n",
    "from dotenv import load_dotenv\n",
    "\n",
    "load_dotenv()\n",
    "\n",
    "os.environ[\"GROQ_API_KEY\"] = os.getenv(\"GROQ_API_KEY\")"
   ]
  },
  {
   "cell_type": "code",
   "execution_count": 7,
   "id": "207fb25e",
   "metadata": {},
   "outputs": [
    {
     "data": {
      "text/plain": [
       "AIMessage(content='Hello, Indrasis! 👋 How can I assist you today?', additional_kwargs={'reasoning_content': 'The user just says \"Hello, I am Indrasis\". Likely greeting. We should respond politely, maybe ask how we can help.'}, response_metadata={'token_usage': {'completion_tokens': 54, 'prompt_tokens': 78, 'total_tokens': 132, 'completion_time': 0.057451017, 'prompt_time': 0.004356328, 'queue_time': 0.051007047, 'total_time': 0.061807345}, 'model_name': 'openai/gpt-oss-20b', 'system_fingerprint': 'fp_e99e93f2ac', 'service_tier': 'on_demand', 'finish_reason': 'stop', 'logprobs': None}, id='run--6ac59f98-9fc4-44c1-a92f-2b7b960b4b92-0', usage_metadata={'input_tokens': 78, 'output_tokens': 54, 'total_tokens': 132})"
      ]
     },
     "execution_count": 7,
     "metadata": {},
     "output_type": "execute_result"
    }
   ],
   "source": [
    "from langchain_groq import ChatGroq \n",
    "\n",
    "llm_groq = ChatGroq(model=\"openai/gpt-oss-20b\")\n",
    "llm_groq.invoke(\"Hello, I am Indrasis\")"
   ]
  },
  {
   "cell_type": "code",
   "execution_count": 9,
   "id": "a9574a66",
   "metadata": {},
   "outputs": [],
   "source": [
    "def superbot(state: State):\n",
    "    return {\"messages\": llm_groq.invoke(state[\"messages\"])}"
   ]
  },
  {
   "cell_type": "code",
   "execution_count": 10,
   "id": "76cb9e30",
   "metadata": {},
   "outputs": [
    {
     "data": {
      "image/png": "[encoded data removed]",
      "text/plain": [
       "<IPython.core.display.Image object>"
      ]
     },
     "metadata": {},
     "output_type": "display_data"
    }
   ],
   "source": [
    "graph = StateGraph(State)\n",
    "\n",
    "graph.add_node(\"Superbot\", superbot)\n",
    "\n",
    "graph.add_edge(START, \"Superbot\")\n",
    "graph.add_edge(\"Superbot\", END)\n",
    "\n",
    "graph_builder = graph.compile()\n",
    "\n",
    "from IPython.display import Image, display \n",
    "display(Image(graph_builder.get_graph().draw_mermaid_png()))"
   ]
  },
  {
   "cell_type": "code",
   "execution_count": 11,
   "id": "ffc4b978",
   "metadata": {},
   "outputs": [
    {
     "data": {
      "text/plain": [
       "{'messages': [HumanMessage(content=\"Hi, I'm learning Agentic AI\", additional_kwargs={}, response_metadata={}, id='fc07c650-af56-49ff-98c5-95bd20eb4eda'),\n",
       "  AIMessage(content='Hello! 👋  \\nIt’s great that you’re diving into Agentic AI.  “Agentic” usually means *autonomous agents that can perceive, reason, and act in a world to achieve goals*—the kind of systems that drive self‑driving cars, personal assistants, or even multi‑agent simulations.\\n\\nBelow is a quick “starter kit” that covers the big ideas, key resources, and a few practical next steps.  Feel free to let me know which parts you’d like to explore deeper (e.g., theory, coding, ethics, or a specific domain like robotics or LLM‑based agents).\\n\\n---\\n\\n## 1. Core Concepts\\n\\n| Component | What it is | Typical Tech |\\n|-----------|------------|--------------|\\n| **Perception** | How the agent senses its environment (sensors, vision, language) | CNNs, transformers, LIDAR, NLP models |\\n| **World Model** | Internal representation of the environment | Graphs, latent dynamics models, memory networks |\\n| **Planning / Decision‑Making** | Choosing actions to achieve goals | Classical planners, MDPs, RL policies, symbolic planners |\\n| **Learning** | Improving performance over time | Supervised learning, Reinforcement Learning (RL), RL‑HF |\\n| **Interaction** | Acting in the world / communicating with users | Actuators, APIs, dialogue systems |\\n| **Self‑Reflection / Meta‑Learning** | Agents that critique or adapt their own policies | Self‑play, curriculum learning, chain‑of‑thought prompting |\\n\\n---\\n\\n## 2. Quick Learning Path\\n\\n| Stage | What to Study | Suggested Resources |\\n|-------|---------------|---------------------|\\n| **Foundations** | Classical AI & RL fundamentals | *Artificial Intelligence: A Modern Approach* (Russell & Norvig) <br> *Reinforcement Learning: An Introduction* (Sutton & Barto) |\\n| **Deep RL & Planning** | Policy gradients, Q‑learning, model‑based RL | DeepMind’s RL lectures <br> OpenAI Spinning Up |\\n| **Large‑Scale Language Agents** | LLMs, chain‑of‑thought, self‑reflection | OpenAI GPT‑4 docs, “Agentic” papers (e.g., “ReAct: Synergizing Reasoning and Acting in Language Models”) |\\n| **Multi‑Agent Systems** | Coordination, game theory, emergent behavior | *Multi‑Agent Reinforcement Learning* (Sutton et\\u202fal.) <br> DeepMind “Multi‑Agent Learning” tutorials |\\n| **Robotics / Physical Agents** | Sim2Real, motion planning, control | Robot Operating System (ROS) tutorials <br> OpenAI Gym‑Robotics, PyBullet |\\n| **Ethics & Safety** | Alignment, interpretability, fairness | *Alignment: The Machine Learning Problem* (Yudkowsky) <br> OpenAI Safety Papers |\\n\\n---\\n\\n## 3. Hands‑On Playbooks\\n\\n| Focus | What to Try | Starter Code / Libraries |\\n|-------|-------------|--------------------------|\\n| **LLM‑Based Agent** | Build a simple “question‑answer” agent that can browse the web | LangChain, LlamaIndex, OpenAI API |\\n| **RL Agent** | Train a cart‑pole or MountainCar agent | OpenAI Gym + Stable Baselines3 |\\n| **Multi‑Agent** | Two agents playing a simple game (e.g., soccer) | PettingZoo, RLlib |\\n| **Robotics** | Simulate a robotic arm picking objects | PyBullet, MuJoCo, OpenAI Gym‑Robotics |\\n| **Hybrid** | Combine RL with LLM prompts (e.g., a “planning” LLM + “control” RL policy) | ReAct framework, RLHF |\\n\\n---\\n\\n## 4. Key Papers & Articles\\n\\n| Topic | Paper / Link |\\n|-------|--------------|\\n| **Agentic LLMs** | “ReAct: Synergizing Reasoning and Acting in Language Models” (2022) |\\n| **Self‑Reflection** | “Self‑Critique: A Language Model for Self‑Improvement” (2023) |\\n| **Multi‑Agent RL** | “Multi‑Agent Reinforcement Learning: A Survey” (2020) |\\n| **Robotics RL** | “Sim2Real Transfer for Robot Manipulation” (2021) |\\n| **Safety** | “Concrete Problems in AI Safety” (2016) – OpenAI |\\n\\n---\\n\\n## 5. Communities & Tools\\n\\n| Resource | Why it matters |\\n|----------|----------------|\\n| **GitHub Repos** | `langchain`, `haystack`, `rllib`, `stable-baselines3`, `pettingzoo` |\\n| **Forums** | r/MachineLearning, r/robotics, r/LanguageTechnology |\\n| **Conferences** | NeurIPS, ICML, ICLR, ICRA (robotics), ACL (NLP) |\\n| **Courses** | Coursera “Reinforcement Learning” (University of Alberta) <br> Fast.ai “Practical Deep Learning for Coders” <br> MIT OpenCourseWare “Artificial Intelligence” |\\n\\n---\\n\\n## 6. Next Steps (Pick One)\\n\\n1. **Build a simple chatbot agent** that can plan a day‑to‑day schedule using LangChain + GPT‑4.  \\n2. **Train a RL agent** on a classic control task and then extend it to a multi‑agent setting.  \\n3. **Simulate a robotic pick‑and‑place** task in PyBullet, then try sim‑to‑real transfer.  \\n4. **Write a short essay** on the ethical implications of autonomous agents in healthcare.\\n\\n---\\n\\n### Quick Code Snippet: LLM Agent with LangChain\\n\\n```python\\nfrom langchain import OpenAI, LLMChain\\nfrom langchain.agents import AgentExecutor, ZeroShotAgent\\n\\nllm = OpenAI(temperature=0.7, model=\"gpt-4\")\\n\\n# Prompt template for a simple planning agent\\nprompt = \"\"\"\\nYou are an autonomous assistant. Given the user’s goal, produce a step‑by‑step plan.\\nGoal: {goal}\\nPlan:\\n\"\"\"\\n\\nagent = ZeroShotAgent(llm=llm, prefix=prompt)\\nexecutor = AgentExecutor.from_agent_and_tools(agent, tools=[])\\n\\nresult = executor.run({\"goal\": \"Plan a healthy dinner for 4 people\"})\\nprint(result)\\n```\\n\\n---\\n\\n## 7. Questions for You\\n\\n- Are you more interested in **theoretical foundations** or **hands‑on coding**?  \\n- Do you have a particular domain in mind (e.g., **chatbots**, **robotics**, **gaming**)?  \\n- What level of experience do you have with Python, ML frameworks, or robotics simulators?\\n\\nAnswering these will help me tailor the next set of resources or projects for you. 🚀', additional_kwargs={'reasoning_content': 'The user says: \"Hi, I\\'m learning Agentic AI\". They are presumably starting to learn about Agentic AI. They likely want an introduction or resources. We should respond warmly, ask clarifying questions, maybe give an overview, resources, examples. Also we can ask what specific aspects they are interested in: theory, practical implementation, frameworks, ethical considerations. Provide suggestions: reading, courses, books, tutorials. Also mention open-source frameworks like LangChain, Agentic frameworks. Also talk about the difference between agentic AI and general AI. Provide a short guide. Also mention the concept of \"agentic\" meaning agents that act autonomously. Provide some examples: chatbots, autonomous robots, etc. Also mention the key components: perception, reasoning, action, learning, planning. Also mention reinforcement learning, planning, hierarchical RL. Provide references: Sutton & Barto, Russell & Norvig, etc. Also mention research: OpenAI\\'s GPT-4, GPT-3.5, RLHF, etc. Provide open-source libraries: LangChain, Haystack, Agentic, etc. Also mention the concept of \"Agentic AI\" in the context of LLMs: chain-of-thought, self-reflection, multi-agent. Provide a step-by-step learning path: fundamentals, then advanced topics.\\n\\nWe need to keep it friendly. Also mention some resources: Coursera, edX, MIT OpenCourseWare, etc. Provide a few recommended readings: \"Artificial Intelligence: A Modern Approach\" by Russell & Norvig, \"Reinforcement Learning: An Introduction\" by Sutton & Barto, \"Deep Learning\" by Goodfellow. Also mention \"Agentic AI\" in the context of LLMs: \"Agentic AI: The next frontier\" etc. Provide references to research papers: \"Agentic: A Multi-Agent RL for LLMs\" etc.\\n\\nWe can ask user what level they are at. Provide suggestions. Also mention the difference between \"agentic\" vs \"reactive\" AI. Provide examples of agentic AI: self-driving cars, robotic assistants, autonomous drones. Also talk about the architecture: sensors, world model, planning, action.\\n\\nAlso mention the importance of safety and ethics: alignment, value learning, interpretability.\\n\\nAlso mention open-source frameworks: OpenAI\\'s RLHF, RLlib, Ray, etc. Provide resources: RLlib docs, RLlib examples, RLlib\\'s \"Agent\" concept.\\n\\nAlso mention that \"Agentic AI\" is a hot area. Provide references to recent conferences: NeurIPS, ICML, ICLR.\\n\\nAlso ask user about their interests: Are they focusing on LLM-based agents, RL, robotics? Provide tailored suggestions.\\n\\nWe need to keep it concise but helpful.\\n\\nLet\\'s produce a response.'}, response_metadata={'token_usage': {'completion_tokens': 2002, 'prompt_tokens': 78, 'total_tokens': 2080, 'completion_time': 2.064879425, 'prompt_time': 0.003710873, 'queue_time': 0.047085393, 'total_time': 2.068590298}, 'model_name': 'openai/gpt-oss-20b', 'system_fingerprint': 'fp_77f8660d1d', 'service_tier': 'on_demand', 'finish_reason': 'stop', 'logprobs': None}, id='run--7eba5217-2296-413e-9ee2-781e6babf67e-0', usage_metadata={'input_tokens': 78, 'output_tokens': 2002, 'total_tokens': 2080})]}"
      ]
     },
     "execution_count": 11,
     "metadata": {},
     "output_type": "execute_result"
    }
   ],
   "source": [
    "graph_builder.invoke({\"messages\": \"Hi, I'm learning Agentic AI\"})"
   ]
  },
  {
   "cell_type": "code",
   "execution_count": 13,
   "id": "a95aa27a",
   "metadata": {},
   "outputs": [
    {
     "name": "stdout",
     "output_type": "stream",
     "text": [
      "{'Superbot': {'messages': AIMessage(content='That’s great! LangGraph is a powerful tool for building conversational AI that can reason, remember, and orchestrate multiple sub‑tasks. Since you’re just starting out, here are a few ways to get the most out of your learning journey:\\n\\n| What you might want to know | Why it matters | Quick starter tip |\\n|-----------------------------|----------------|-------------------|\\n| **Core concepts** – Nodes, edges, memory, and the *Graph* interface | They’re the building blocks of every LangGraph app | Read the official [Concepts guide](https://langgraph.org/docs/concepts) – it’s short but covers the fundamentals. |\\n| **Getting a template** – How to spin up a project | Saves time and shows best practices | Run `pip install langgraph && langgraph init myproject` and explore the generated files. |\\n| **LLM integration** – Plugging in OpenAI, Anthropic, or local models | You’ll need a model to generate responses | Try the `ChatPromptTemplate` example in the docs; replace the model key with yours. |\\n| **State management** – How memory works, how to persist conversation history | Enables context‑aware conversations | Use `Memory` nodes and experiment with `StateBuilder` to see how state flows. |\\n| **Error handling & retries** – Making the graph robust | Real‑world apps need graceful failure | Add a `RetryNode` or `ErrorNode` in your graph and watch how it recovers. |\\n| **Testing** – Unit tests for nodes and integration tests for the whole graph | Keeps your code reliable as it grows | Look at the `tests/` folder in the starter repo – it shows how to mock LLM responses. |\\n| **Deploying** – Running locally, on Docker, or in the cloud | You’ll eventually want to expose your graph | Check the “Deployment” section in the docs for Dockerfile and Cloud Run examples. |\\n\\n### A quick “Hello, LangGraph” walk‑through\\n\\n```bash\\n# 1. Create a fresh project\\npip install langgraph\\nlanggraph init hello_graph\\ncd hello_graph\\n\\n# 2. Edit `graph.py` to add a simple node\\nfrom langgraph.graph import StateGraph\\nfrom langgraph.prebuilt import create_chat_agent\\n\\ndef greet(state):\\n    # state[\"messages\"] holds the chat history\\n    return {\"messages\": state[\"messages\"] + [(\"assistant\", \"Hello! How can I help you today?\")]}\\n\\nbuilder = StateGraph()\\nbuilder.add_node(\"greet\", greet)\\nbuilder.add_edge(None, \"greet\")\\nbuilder.set_entry_point(\"greet\")\\n\\ngraph = builder.compile()\\nresponse = graph.invoke({\"messages\": [(\"user\", \"Hi\")]})\\nprint(response)\\n```\\n\\nThat’s all you need to see a basic graph respond. From there, you can:\\n\\n1. **Add more nodes** – e.g., a `search` node that queries an API.\\n2. **Chain nodes** – let one node’s output feed into the next.\\n3. **Use `AgentExecutor`** – let LangGraph manage the agent’s prompts automatically.\\n\\n### Resources to dive deeper\\n\\n| Resource | What it covers |\\n|----------|----------------|\\n| **Official docs** | Full API reference, tutorials, and best‑practice guides |\\n| **YouTube playlist** | Intro videos by the LangGraph team (search “LangGraph tutorial”) |\\n| **GitHub examples** | Real‑world projects (e.g., a travel booking bot) |\\n| **Community Discord** | Ask questions, share progress, get feedback |\\n| **Blog posts** | “Building a multi‑step chatbot with LangGraph” – great for practical patterns |\\n\\n### Quick questions to help you focus\\n\\n- Are you looking to build a simple chatbot or a multi‑step workflow (e.g., booking, data extraction)?\\n- Do you have an LLM provider already (OpenAI, Anthropic, local)?\\n- Are you interested in deploying to a specific platform (AWS, GCP, Azure, Docker)?\\n- Do you need help with testing or debugging a particular graph?\\n\\nLet me know which direction you’d like to take, and I can dive deeper into code snippets, best practices, or troubleshooting tips!', additional_kwargs={'reasoning_content': 'The user says: \"I\\'m learning LangGraph\". They likely want guidance or resources. The user didn\\'t ask a specific question. We need to respond helpfully, maybe ask clarifying question or provide overview. Should we ask what they need? Probably respond with a friendly message, ask what they want help with. Also mention resources, tutorials, common pitfalls. Let\\'s respond.'}, response_metadata={'token_usage': {'completion_tokens': 955, 'prompt_tokens': 75, 'total_tokens': 1030, 'completion_time': 1.007147438, 'prompt_time': 0.003666691, 'queue_time': 0.046288599, 'total_time': 1.010814129}, 'model_name': 'openai/gpt-oss-20b', 'system_fingerprint': 'fp_e99e93f2ac', 'service_tier': 'on_demand', 'finish_reason': 'stop', 'logprobs': None}, id='run--0c9c077a-f243-461a-ad0d-04fff481b70c-0', usage_metadata={'input_tokens': 75, 'output_tokens': 955, 'total_tokens': 1030})}}\n"
     ]
    }
   ],
   "source": [
    "for event in graph_builder.stream({\"messages\": \"I'm learning LangGraph\"}):\n",
    "    print(event)"
   ]
  }
 ],
 "metadata": {
  "kernelspec": {
   "display_name": "Python 3",
   "language": "python",
   "name": "python3"
  },
  "language_info": {
   "codemirror_mode": {
    "name": "ipython",
    "version": 3
   },
   "file_extension": ".py",
   "mimetype": "text/x-python",
   "name": "python",
   "nbconvert_exporter": "python",
   "pygments_lexer": "ipython3",
   "version": "3.12.0"
  }
 },
 "nbformat": 4,
 "nbformat_minor": 5
}
