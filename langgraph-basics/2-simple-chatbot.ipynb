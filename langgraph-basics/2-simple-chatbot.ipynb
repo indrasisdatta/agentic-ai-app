{
 "cells": [
  {
   "cell_type": "code",
   "execution_count": 14,
   "id": "b4bd502b",
   "metadata": {},
   "outputs": [],
   "source": [
    "from typing_extensions import TypedDict \n",
    "from pydantic import BaseModel\n",
    "from langgraph.graph import StateGraph, START, END \n",
    "\n",
    "# Reducers \n",
    "from typing import Annotated \n",
    "from langgraph.graph.message import add_messages"
   ]
  },
  {
   "cell_type": "code",
   "execution_count": 15,
   "id": "10e40dc9",
   "metadata": {},
   "outputs": [],
   "source": [
    "# class State(TypedDict):\n",
    "#     messages: Annotated[list, add_messages]\n",
    "\n",
    "class State(BaseModel):\n",
    "    messages: Annotated[list, add_messages]"
   ]
  },
  {
   "cell_type": "code",
   "execution_count": 5,
   "id": "44998c8a",
   "metadata": {},
   "outputs": [],
   "source": [
    "import os \n",
    "from dotenv import load_dotenv\n",
    "\n",
    "load_dotenv()\n",
    "\n",
    "os.environ[\"GROQ_API_KEY\"] = os.getenv(\"GROQ_API_KEY\")"
   ]
  },
  {
   "cell_type": "code",
   "execution_count": 7,
   "id": "207fb25e",
   "metadata": {},
   "outputs": [
    {
     "data": {
      "text/plain": [
       "AIMessage(content='Hello, Indrasis! 👋 How can I assist you today?', additional_kwargs={'reasoning_content': 'The user just says \"Hello, I am Indrasis\". Likely greeting. We should respond politely, maybe ask how we can help.'}, response_metadata={'token_usage': {'completion_tokens': 54, 'prompt_tokens': 78, 'total_tokens': 132, 'completion_time': 0.057451017, 'prompt_time': 0.004356328, 'queue_time': 0.051007047, 'total_time': 0.061807345}, 'model_name': 'openai/gpt-oss-20b', 'system_fingerprint': 'fp_e99e93f2ac', 'service_tier': 'on_demand', 'finish_reason': 'stop', 'logprobs': None}, id='run--6ac59f98-9fc4-44c1-a92f-2b7b960b4b92-0', usage_metadata={'input_tokens': 78, 'output_tokens': 54, 'total_tokens': 132})"
      ]
     },
     "execution_count": 7,
     "metadata": {},
     "output_type": "execute_result"
    }
   ],
   "source": [
    "from langchain_groq import ChatGroq \n",
    "\n",
    "llm_groq = ChatGroq(model=\"openai/gpt-oss-20b\")\n",
    "llm_groq.invoke(\"Hello, I am Indrasis\")"
   ]
  },
  {
   "cell_type": "code",
   "execution_count": 9,
   "id": "a9574a66",
   "metadata": {},
   "outputs": [],
   "source": [
    "def superbot(state: State):\n",
    "    return {\"messages\": llm_groq.invoke(state[\"messages\"])}"
   ]
  },
  {
   "cell_type": "code",
   "execution_count": 10,
   "id": "76cb9e30",
   "metadata": {},
   "outputs": [
    {
     "data": {
      "image/png": "[encoded data removed]",
      "text/plain": [
       "<IPython.core.display.Image object>"
      ]
     },
     "metadata": {},
     "output_type": "display_data"
    }
   ],
   "source": [
    "graph = StateGraph(State)\n",
    "\n",
    "graph.add_node(\"Superbot\", superbot)\n",
    "\n",
    "graph.add_edge(START, \"Superbot\")\n",
    "graph.add_edge(\"Superbot\", END)\n",
    "\n",
    "graph_builder = graph.compile()\n",
    "\n",
    "from IPython.display import Image, display \n",
    "display(Image(graph_builder.get_graph().draw_mermaid_png()))"
   ]
  },
  {
   "cell_type": "code",
   "execution_count": 11,
   "id": "ffc4b978",
   "metadata": {},
   "outputs": [
    {
     "data": {
      "text/plain": [
       "{'messages': [HumanMessage(content=\"Hi, I'm learning Agentic AI\", additional_kwargs={}, response_metadata={}, id='fc07c650-af56-49ff-98c5-95bd20eb4eda'),\n",
       "  AIMessage(content='Hello! 👋  \\nIt’s great that you’re diving into Agentic AI.  “Agentic” usually means *autonomous agents that can perceive, reason, and act in a world to achieve goals*—the kind of systems that drive self‑driving cars, personal assistants, or even multi‑agent simulations.\\n\\nBelow is a quick “starter kit” that covers the big ideas, key resources, and a few practical next steps.  Feel free to let me know which parts you’d like to explore deeper (e.g., theory, coding, ethics, or a specific domain like robotics or LLM‑based agents).\\n\\n---\\n\\n## 1. Core Concepts\\n\\n| Component | What it is | Typical Tech |\\n|-----------|------------|--------------|\\n| **Perception** | How the agent senses its environment (sensors, vision, language) | CNNs, transformers, LIDAR, NLP models |\\n| **World Model** | Internal representation of the environment | Graphs, latent dynamics models, memory networks |\\n| **Planning / Decision‑Making** | Choosing actions to achieve goals | Classical planners, MDPs, RL policies, symbolic planners |\\n| **Learning** | Improving performance over time | Supervised learning, Reinforcement Learning (RL), RL‑HF |\\n| **Interaction** | Acting in the world / communicating with users | Actuators, APIs, dialogue systems |\\n| **Self‑Reflection / Meta‑Learning** | Agents that critique or adapt their own policies | Self‑play, curriculum learning, chain‑of‑thought prompting |\\n\\n---\\n\\n## 2. Quick Learning Path\\n\\n| Stage | What to Study | Suggested Resources |\\n|-------|---------------|---------------------|\\n| **Foundations** | Classical AI & RL fundamentals | *Artificial Intelligence: A Modern Approach* (Russell & Norvig) <br> *Reinforcement Learning: An Introduction* (Sutton & Barto) |\\n| **Deep RL & Planning** | Policy gradients, Q‑learning, model‑based RL | DeepMind’s RL lectures <br> OpenAI Spinning Up |\\n| **Large‑Scale Language Agents** | LLMs, chain‑of‑thought, self‑reflection | OpenAI GPT‑4 docs, “Agentic” papers (e.g., “ReAct: Synergizing Reasoning and Acting in Language Models”) |\\n| **Multi‑Agent Systems** | Coordination, game theory, emergent behavior | *Multi‑Agent Reinforcement Learning* (Sutton et\\u202fal.) <br> DeepMind “Multi‑Agent Learning” tutorials |\\n| **Robotics / Physical Agents** | Sim2Real, motion planning, control | Robot Operating System (ROS) tutorials <br> OpenAI Gym‑Robotics, PyBullet |\\n| **Ethics & Safety** | Alignment, interpretability, fairness | *Alignment: The Machine Learning Problem* (Yudkowsky) <br> OpenAI Safety Papers |\\n\\n---\\n\\n## 3. Hands‑On Playbooks\\n\\n| Focus | What to Try | Starter Code / Libraries |\\n|-------|-------------|--------------------------|\\n| **LLM‑Based Agent** | Build a simple “question‑answer” agent that can browse the web | LangChain, LlamaIndex, OpenAI API |\\n| **RL Agent** | Train a cart‑pole or MountainCar agent | OpenAI Gym + Stable Baselines3 |\\n| **Multi‑Agent** | Two agents playing a simple game (e.g., soccer) | PettingZoo, RLlib |\\n| **Robotics** | Simulate a robotic arm picking objects | PyBullet, MuJoCo, OpenAI Gym‑Robotics |\\n| **Hybrid** | Combine RL with LLM prompts (e.g., a “planning” LLM + “control” RL policy) | ReAct framework, RLHF |\\n\\n---\\n\\n## 4. Key Papers & Articles\\n\\n| Topic | Paper / Link |\\n|-------|--------------|\\n| **Agentic LLMs** | “ReAct: Synergizing Reasoning and Acting in Language Models” (2022) |\\n| **Self‑Reflection** | “Self‑Critique: A Language Model for Self‑Improvement” (2023) |\\n| **Multi‑Agent RL** | “Multi‑Agent Reinforcement Learning: A Survey” (2020) |\\n| **Robotics RL** | “Sim2Real Transfer for Robot Manipulation” (2021) |\\n| **Safety** | “Concrete Problems in AI Safety” (2016) – OpenAI |\\n\\n---\\n\\n## 5. Communities & Tools\\n\\n| Resource | Why it matters |\\n|----------|----------------|\\n| **GitHub Repos** | `langchain`, `haystack`, `rllib`, `stable-baselines3`, `pettingzoo` |\\n| **Forums** | r/MachineLearning, r/robotics, r/LanguageTechnology |\\n| **Conferences** | NeurIPS, ICML, ICLR, ICRA (robotics), ACL (NLP) |\\n| **Courses** | Coursera “Reinforcement Learning” (University of Alberta) <br> Fast.ai “Practical Deep Learning for Coders” <br> MIT OpenCourseWare “Artificial Intelligence” |\\n\\n---\\n\\n## 6. Next Steps (Pick One)\\n\\n1. **Build a simple chatbot agent** that can plan a day‑to‑day schedule using LangChain + GPT‑4.  \\n2. **Train a RL agent** on a classic control task and then extend it to a multi‑agent setting.  \\n3. **Simulate a robotic pick‑and‑place** task in PyBullet, then try sim‑to‑real transfer.  \\n4. **Write a short essay** on the ethical implications of autonomous agents in healthcare.\\n\\n---\\n\\n### Quick Code Snippet: LLM Agent with LangChain\\n\\n```python\\nfrom langchain import OpenAI, LLMChain\\nfrom langchain.agents import AgentExecutor, ZeroShotAgent\\n\\nllm = OpenAI(temperature=0.7, model=\"gpt-4\")\\n\\n# Prompt template for a simple planning agent\\nprompt = \"\"\"\\nYou are an autonomous assistant. Given the user’s goal, produce a step‑by‑step plan.\\nGoal: {goal}\\nPlan:\\n\"\"\"\\n\\nagent = ZeroShotAgent(llm=llm, prefix=prompt)\\nexecutor = AgentExecutor.from_agent_and_tools(agent, tools=[])\\n\\nresult = executor.run({\"goal\": \"Plan a healthy dinner for 4 people\"})\\nprint(result)\\n```\\n\\n---\\n\\n## 7. Questions for You\\n\\n- Are you more interested in **theoretical foundations** or **hands‑on coding**?  \\n- Do you have a particular domain in mind (e.g., **chatbots**, **robotics**, **gaming**)?  \\n- What level of experience do you have with Python, ML frameworks, or robotics simulators?\\n\\nAnswering these will help me tailor the next set of resources or projects for you. 🚀', additional_kwargs={'reasoning_content': 'The user says: \"Hi, I\\'m learning Agentic AI\". They are presumably starting to learn about Agentic AI. They likely want an introduction or resources. We should respond warmly, ask clarifying questions, maybe give an overview, resources, examples. Also we can ask what specific aspects they are interested in: theory, practical implementation, frameworks, ethical considerations. Provide suggestions: reading, courses, books, tutorials. Also mention open-source frameworks like LangChain, Agentic frameworks. Also talk about the difference between agentic AI and general AI. Provide a short guide. Also mention the concept of \"agentic\" meaning agents that act autonomously. Provide some examples: chatbots, autonomous robots, etc. Also mention the key components: perception, reasoning, action, learning, planning. Also mention reinforcement learning, planning, hierarchical RL. Provide references: Sutton & Barto, Russell & Norvig, etc. Also mention research: OpenAI\\'s GPT-4, GPT-3.5, RLHF, etc. Provide open-source libraries: LangChain, Haystack, Agentic, etc. Also mention the concept of \"Agentic AI\" in the context of LLMs: chain-of-thought, self-reflection, multi-agent. Provide a step-by-step learning path: fundamentals, then advanced topics.\\n\\nWe need to keep it friendly. Also mention some resources: Coursera, edX, MIT OpenCourseWare, etc. Provide a few recommended readings: \"Artificial Intelligence: A Modern Approach\" by Russell & Norvig, \"Reinforcement Learning: An Introduction\" by Sutton & Barto, \"Deep Learning\" by Goodfellow. Also mention \"Agentic AI\" in the context of LLMs: \"Agentic AI: The next frontier\" etc. Provide references to research papers: \"Agentic: A Multi-Agent RL for LLMs\" etc.\\n\\nWe can ask user what level they are at. Provide suggestions. Also mention the difference between \"agentic\" vs \"reactive\" AI. Provide examples of agentic AI: self-driving cars, robotic assistants, autonomous drones. Also talk about the architecture: sensors, world model, planning, action.\\n\\nAlso mention the importance of safety and ethics: alignment, value learning, interpretability.\\n\\nAlso mention open-source frameworks: OpenAI\\'s RLHF, RLlib, Ray, etc. Provide resources: RLlib docs, RLlib examples, RLlib\\'s \"Agent\" concept.\\n\\nAlso mention that \"Agentic AI\" is a hot area. Provide references to recent conferences: NeurIPS, ICML, ICLR.\\n\\nAlso ask user about their interests: Are they focusing on LLM-based agents, RL, robotics? Provide tailored suggestions.\\n\\nWe need to keep it concise but helpful.\\n\\nLet\\'s produce a response.'}, response_metadata={'token_usage': {'completion_tokens': 2002, 'prompt_tokens': 78, 'total_tokens': 2080, 'completion_time': 2.064879425, 'prompt_time': 0.003710873, 'queue_time': 0.047085393, 'total_time': 2.068590298}, 'model_name': 'openai/gpt-oss-20b', 'system_fingerprint': 'fp_77f8660d1d', 'service_tier': 'on_demand', 'finish_reason': 'stop', 'logprobs': None}, id='run--7eba5217-2296-413e-9ee2-781e6babf67e-0', usage_metadata={'input_tokens': 78, 'output_tokens': 2002, 'total_tokens': 2080})]}"
      ]
     },
     "execution_count": 11,
     "metadata": {},
     "output_type": "execute_result"
    }
   ],
   "source": [
    "graph_builder.invoke({\"messages\": \"Hi, I'm learning Agentic AI\"})"
   ]
  },
  {
   "cell_type": "code",
   "execution_count": 16,
   "id": "a95aa27a",
   "metadata": {},
   "outputs": [
    {
     "name": "stdout",
     "output_type": "stream",
     "text": [
      "{'Superbot': {'messages': AIMessage(content='Great! LangGraph is a powerful framework for building **graph‑based language model applications**—think of it as a way to stitch together multiple LLM calls, external tools, and custom logic into a cohesive flow that can learn, adapt, and reason over time.\\n\\nBelow is a quick “starter kit” that covers:\\n\\n1. **What LangGraph really is**  \\n2. **Why you’d want to use it**  \\n3. **Core concepts**  \\n4. **A minimal example**  \\n5. **Where to go from here** (docs, tutorials, community)\\n\\nFeel free to jump to the section that matches your current level of knowledge or ask follow‑up questions.\\n\\n---\\n\\n## 1. What is LangGraph?\\n\\nLangGraph (short for *Language Model Graph*) is a framework built on top of the **LangChain** ecosystem that lets you:\\n\\n| Feature | How it works |\\n|---------|--------------|\\n| **Graph nodes** | Each node represents a unit of computation (e.g., a prompt, a tool call, a data fetch, or a custom function). |\\n| **Edges** | Define the flow between nodes, possibly conditioned on the LLM’s output. |\\n| **State** | A shared mutable context that flows through the graph, enabling memory, metadata, and back‑tracking. |\\n| **RAG / Retrieval** | Integrate vector stores, knowledge bases, or APIs directly into the graph. |\\n| **Reinforcement** | Use RLHF or other training loops to fine‑tune the graph’s decision‑making. |\\n\\nIn short, LangGraph turns a chain of LLM calls into a **stateful, decision‑making graph** that can adapt based on user input or external signals.\\n\\n---\\n\\n## 2. Why Use LangGraph?\\n\\n| Problem | LangGraph Solution |\\n|---------|--------------------|\\n| **Complex multi‑step reasoning** | Break into nodes; each node does one sub‑task. |\\n| **Dynamic branching** | Use conditionals or `Switch` nodes that evaluate LLM responses. |\\n| **External tool integration** | Wrap APIs or local functions as nodes (`ToolNode`, `PythonNode`). |\\n| **Persistent memory** | Store state in a database or vector store; the graph can read/write. |\\n| **Training / fine‑tuning** | Graph can be trained end‑to‑end with RLHF or supervised signals. |\\n\\nIf you’re building a chatbot that needs to browse the web, pull data from a database, or perform calculations, LangGraph gives you a clean, declarative way to describe the workflow.\\n\\n---\\n\\n## 3. Core Concepts\\n\\n| Concept | What it is | Quick example |\\n|---------|------------|---------------|\\n| **Node** | A unit of computation. | `PromptNode`, `PythonNode`, `ToolNode` |\\n| **Edge** | A directed connection. | `node_a -> node_b` |\\n| **State** | Dictionary that carries context. | `state = {\"input\": \"...\", \"history\": []}` |\\n| **Graph** | Collection of nodes & edges. | `GraphBuilder()` |\\n| **Execution** | Running the graph from a start node. | `graph.run(start_node, state)` |\\n| **Conditionals** | Decide next node based on state. | `SwitchNode` or `IfNode` |\\n| **Tools** | External services (e.g., search, DB). | `OpenAIChat`, `RequestsTool` |\\n\\n---\\n\\n## 4. Minimal Example: “Question‑Answering Bot”\\n\\nBelow is a **self‑contained** example that demonstrates:\\n\\n1. Prompting the LLM  \\n2. Calling a simple tool (Python function)  \\n3. Updating state  \\n4. Returning the final answer\\n\\n```python\\n# langgraph_demo.py\\nfrom langgraph.graph import StateGraph, START\\nfrom langgraph.prebuilt import ToolNode\\nfrom langchain.tools import tool\\nfrom langchain_openai import ChatOpenAI\\n\\n# 1. Define a simple Python tool\\n@tool\\ndef add_numbers(a: int, b: int) -> int:\\n    \"\"\"Return the sum of a and b.\"\"\"\\n    return a + b\\n\\n# 2. Build the graph\\ndef build_graph():\\n    graph = StateGraph()\\n\\n    # 2a. Node that asks the LLM for two numbers\\n    def ask_numbers(state):\\n        llm = ChatOpenAI(temperature=0)\\n        prompt = (\\n            \"I want you to give me two integers between 1 and 10, \"\\n            \"separated by a comma. Just give the numbers, no text.\"\\n        )\\n        response = llm.invoke(prompt)\\n        # parse \"3, 7\" -> [3, 7]\\n        numbers = [int(x.strip()) for x in response.content.split(\",\")]\\n        state[\"nums\"] = numbers\\n        return state\\n\\n    # 2b. Node that calls the add_numbers tool\\n    def sum_numbers(state):\\n        a, b = state[\"nums\"]\\n        result = add_numbers(a, b)\\n        state[\"sum\"] = result\\n        return state\\n\\n    # 2c. Node that returns the final answer\\n    def answer(state):\\n        return {\"answer\": f\"The sum of {state[\\'nums\\'][0]} and {state[\\'nums\\'][1]} is {state[\\'sum\\']}.\"}\\n\\n    # 3. Register nodes\\n    graph.add_node(\"ask\", ask_numbers)\\n    graph.add_node(\"sum\", sum_numbers)\\n    graph.add_node(\"answer\", answer)\\n\\n    # 4. Define edges\\n    graph.add_edge(START, \"ask\")\\n    graph.add_edge(\"ask\", \"sum\")\\n    graph.add_edge(\"sum\", \"answer\")\\n\\n    return graph.compile()\\n\\n# 5. Run the graph\\nif __name__ == \"__main__\":\\n    graph = build_graph()\\n    result = graph.invoke({})\\n    print(result[\"answer\"])\\n```\\n\\n**What happens?**\\n\\n1. **`ask_numbers`**: LLM outputs something like `\"3, 7\"`.  \\n2. **`sum_numbers`**: Calls the `add_numbers` tool.  \\n3. **`answer`**: Formats the response.  \\n\\nYou’ll see something like:\\n\\n```\\nThe sum of 3 and 7 is 10.\\n```\\n\\n---\\n\\n## 5. Next Steps & Resources\\n\\n| Resource | What it covers | Link |\\n|----------|----------------|------|\\n| **Official Docs** | Core API, tutorials, examples | https://langgraph.org/docs |\\n| **LangGraph GitHub** | Source, examples, issue tracker | https://github.com/langchain-ai/langgraph |\\n| **LangChain Docs** | Since LangGraph builds on LangChain | https://langchain.com |\\n| **Tutorial: Build a RAG Bot** | Retrieval + LLM | https://langgraph.org/docs/tutorials/rag |\\n| **Tutorial: Multi‑Agent System** | Agents communicating via graph | https://langgraph.org/docs/tutorials/multi-agent |\\n| **Community Discord** | Ask questions, share projects | https://discord.gg/langchain |\\n| **YouTube Playlist** | Quick demos | Search “LangGraph tutorial” on YouTube |\\n\\n---\\n\\n## Quick Checklist for Your First Project\\n\\n1. **Define the problem** – What does the user want?  \\n2. **List sub‑tasks** – Each becomes a node.  \\n3. **Choose tools** – External APIs, Python functions, etc.  \\n4. **Sketch the graph** – Draw nodes & edges (paper or mind‑map).  \\n5. **Implement nodes** – Simple functions that read/write `state`.  \\n6. **Wire up the graph** – `StateGraph` + `add_node` + `add_edge`.  \\n7. **Test locally** – Run a few inputs, check state transitions.  \\n8. **Add persistence** – If you need memory, plug in a vector store or database.  \\n9. **Iterate** – Refine prompts, add error handling, consider RLHF.  \\n\\n---\\n\\n### Got a Specific Use‑Case?\\n\\n- **Chatbot with browsing**? Use a `BrowserTool` node.  \\n- **Data‑driven QA**? Add a node that queries a SQL DB.  \\n- **Multi‑agent negotiation**? Use a `SwitchNode` to let agents pick a strategy.\\n\\nJust let me know what you’re trying to build, and I can sketch a more tailored graph for you!', additional_kwargs={'reasoning_content': 'User says \"I\\'m learning LangGraph\". They likely want help. We need to respond. Should ask what they need. Provide resources, guidance, maybe code example. Let\\'s give overview, resources, example.'}, response_metadata={'token_usage': {'completion_tokens': 1795, 'prompt_tokens': 75, 'total_tokens': 1870, 'completion_time': 1.8329083800000001, 'prompt_time': 0.003541826, 'queue_time': 0.047679183, 'total_time': 1.8364502059999999}, 'model_name': 'openai/gpt-oss-20b', 'system_fingerprint': 'fp_77f8660d1d', 'service_tier': 'on_demand', 'finish_reason': 'stop', 'logprobs': None}, id='run--5966fbb1-12e6-4bcf-a6fb-4959036955b0-0', usage_metadata={'input_tokens': 75, 'output_tokens': 1795, 'total_tokens': 1870})}}\n"
     ]
    }
   ],
   "source": [
    "for event in graph_builder.stream({\"messages\": \"I'm learning LangGraph\"}):\n",
    "    print(event)"
   ]
  }
 ],
 "metadata": {
  "kernelspec": {
   "display_name": "Python 3",
   "language": "python",
   "name": "python3"
  },
  "language_info": {
   "codemirror_mode": {
    "name": "ipython",
    "version": 3
   },
   "file_extension": ".py",
   "mimetype": "text/x-python",
   "name": "python",
   "nbconvert_exporter": "python",
   "pygments_lexer": "ipython3",
   "version": "3.12.0"
  }
 },
 "nbformat": 4,
 "nbformat_minor": 5
}
