{
 "cells": [
  {
   "cell_type": "code",
   "execution_count": 24,
   "id": "ebc0ead3",
   "metadata": {},
   "outputs": [],
   "source": [
    "from langgraph.graph import StateGraph, START, END\n",
    "import os \n",
    "from dotenv import load_dotenv\n",
    "from langchain_groq import ChatGroq\n",
    "from langchain_core.messages import HumanMessage\n",
    "\n",
    "load_dotenv()\n",
    "\n",
    "os.environ[\"GROQ_API_KEY\"] = os.getenv(\"GROQ_API_KEY\")\n",
    "\n",
    "llm = ChatGroq(model=\"openai/gpt-oss-20b\")"
   ]
  },
  {
   "cell_type": "code",
   "execution_count": 25,
   "id": "7fdad99c",
   "metadata": {},
   "outputs": [],
   "source": [
    "def add(a: int, b: int) -> int:\n",
    "    \"\"\" Add a and b \n",
    "    Args:\n",
    "        a (int): first int \n",
    "        b (int): second int \n",
    "    Returns:\n",
    "        int\n",
    "    \"\"\"\n",
    "    return a + b"
   ]
  },
  {
   "cell_type": "code",
   "execution_count": 26,
   "id": "a4e5aa7b",
   "metadata": {},
   "outputs": [
    {
     "data": {
      "text/plain": [
       "AIMessage(content='', additional_kwargs={'reasoning_content': 'The user asks \"What is 5+2?\" We should use the add function.', 'tool_calls': [{'id': 'fc_8496a4b0-24bd-42e9-8d73-a7fe72ec7226', 'function': {'arguments': '{\"a\":5,\"b\":2}', 'name': 'add'}, 'type': 'function'}]}, response_metadata={'token_usage': {'completion_tokens': 45, 'prompt_tokens': 154, 'total_tokens': 199, 'completion_time': 0.047889923, 'prompt_time': 0.029566967, 'queue_time': 0.747089491, 'total_time': 0.07745689}, 'model_name': 'openai/gpt-oss-20b', 'system_fingerprint': 'fp_e99e93f2ac', 'service_tier': 'on_demand', 'finish_reason': 'tool_calls', 'logprobs': None}, id='run--d806235a-e200-4a49-a02a-0a57a3a78477-0', tool_calls=[{'name': 'add', 'args': {'a': 5, 'b': 2}, 'id': 'fc_8496a4b0-24bd-42e9-8d73-a7fe72ec7226', 'type': 'tool_call'}], usage_metadata={'input_tokens': 154, 'output_tokens': 45, 'total_tokens': 199})"
      ]
     },
     "execution_count": 26,
     "metadata": {},
     "output_type": "execute_result"
    }
   ],
   "source": [
    "# Binding tool with LLM \n",
    "\n",
    "llm_with_tools = llm.bind_tools([add])\n",
    "llm_with_tools.invoke([HumanMessage(content=\"What is 5+2?\", name=\"UserA\")])"
   ]
  },
  {
   "cell_type": "code",
   "execution_count": 27,
   "id": "1a819600",
   "metadata": {},
   "outputs": [],
   "source": [
    "# Using messages as State\n",
    "\n",
    "from langgraph.graph.message import add_messages\n",
    "from typing import Annotated \n",
    "from typing_extensions import TypedDict\n",
    "from langchain_core.messages import AnyMessage\n",
    "\n",
    "class State(TypedDict):\n",
    "    messages: Annotated[list[AnyMessage], add_messages]\n",
    "    name: str\n"
   ]
  },
  {
   "cell_type": "code",
   "execution_count": 28,
   "id": "d81da86a",
   "metadata": {},
   "outputs": [],
   "source": [
    "# Chatbot with functionality \n",
    "def llm_tool(state: State):\n",
    "    return {\"messages\": [llm_with_tools.invoke(state[\"messages\"])]}\n"
   ]
  },
  {
   "cell_type": "code",
   "execution_count": 35,
   "id": "5ea3fbba",
   "metadata": {},
   "outputs": [
    {
     "data": {
      "image/png": "[encoded data removed]",
      "text/plain": [
       "<IPython.core.display.Image object>"
      ]
     },
     "metadata": {},
     "output_type": "display_data"
    }
   ],
   "source": [
    "from IPython.display import Image, display \n",
    "from langgraph.prebuilt import ToolNode, tools_condition\n",
    "\n",
    "builder = StateGraph(State)\n",
    "\n",
    "builder.add_node(\"llm_tool\", llm_tool)\n",
    "builder.add_node(\"tools\", ToolNode([add]))\n",
    "\n",
    "builder.add_edge(START, \"llm_tool\")\n",
    "# If the latest message from assistant is a tool call, tools_condition routes to tools\n",
    "# Otherwise tools_condition routes to END\n",
    "builder.add_conditional_edges(\"llm_tool\", tools_condition)\n",
    "\n",
    "graph = builder.compile()\n",
    "\n",
    "display(Image(graph.get_graph().draw_mermaid_png()))"
   ]
  },
  {
   "cell_type": "code",
   "execution_count": null,
   "id": "0404cab7",
   "metadata": {},
   "outputs": [
    {
     "name": "stdout",
     "output_type": "stream",
     "text": [
      "{'messages': [HumanMessage(content='What is 88 + 321?', additional_kwargs={}, response_metadata={}, id='5c8f0ff0-d65d-49c0-8930-15caaa2f999b'), AIMessage(content='', additional_kwargs={'reasoning_content': 'User asks: \"What is 88 + 321?\" They want the sum. We should compute 88+321 = 409. We could also use the add function. Let\\'s use the function.', 'tool_calls': [{'id': 'fc_2bacc872-edb6-49c5-8a74-f5e44be2ff3c', 'function': {'arguments': '{\"a\":88,\"b\":321}', 'name': 'add'}, 'type': 'function'}]}, response_metadata={'token_usage': {'completion_tokens': 68, 'prompt_tokens': 155, 'total_tokens': 223, 'completion_time': 0.067253994, 'prompt_time': 0.007469083, 'queue_time': 0.050906197, 'total_time': 0.074723077}, 'model_name': 'openai/gpt-oss-20b', 'system_fingerprint': 'fp_80501ff3a1', 'service_tier': 'on_demand', 'finish_reason': 'tool_calls', 'logprobs': None}, id='run--d4bd93bb-daef-4f36-a066-1afa8512583d-0', tool_calls=[{'name': 'add', 'args': {'a': 88, 'b': 321}, 'id': 'fc_2bacc872-edb6-49c5-8a74-f5e44be2ff3c', 'type': 'tool_call'}], usage_metadata={'input_tokens': 155, 'output_tokens': 68, 'total_tokens': 223}), ToolMessage(content='409', name='add', id='28b425e9-a0ea-474f-90ea-b96db3c95338', tool_call_id='fc_2bacc872-edb6-49c5-8a74-f5e44be2ff3c')]}\n"
     ]
    }
   ],
   "source": [
    "\n",
    "\n",
    "messages = graph.invoke({\"messages\": \"What is 88 * 321?\"})\n",
    "\n",
    "print(messages)"
   ]
  }
 ],
 "metadata": {
  "kernelspec": {
   "display_name": "Python 3",
   "language": "python",
   "name": "python3"
  },
  "language_info": {
   "codemirror_mode": {
    "name": "ipython",
    "version": 3
   },
   "file_extension": ".py",
   "mimetype": "text/x-python",
   "name": "python",
   "nbconvert_exporter": "python",
   "pygments_lexer": "ipython3",
   "version": "3.12.0"
  }
 },
 "nbformat": 4,
 "nbformat_minor": 5
}
