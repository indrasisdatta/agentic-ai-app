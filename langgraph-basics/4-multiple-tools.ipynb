{
 "cells": [
  {
   "cell_type": "code",
   "execution_count": 3,
   "id": "8153cedd",
   "metadata": {},
   "outputs": [],
   "source": [
    "import os\n",
    "from dotenv import load_dotenv\n",
    "\n",
    "load_dotenv()\n",
    "\n",
    "os.environ[\"GROQ_API_KEY\"] = os.getenv(\"GROQ_API_KEY\")\n",
    "os.environ[\"TAVILY_API_KEY\"] = os.getenv(\"TAVILY_API_KEY\")"
   ]
  },
  {
   "cell_type": "code",
   "execution_count": 8,
   "id": "8fb61d76",
   "metadata": {},
   "outputs": [
    {
     "name": "stdout",
     "output_type": "stream",
     "text": [
      "api_wrapper=ArxivAPIWrapper(arxiv_search=<class 'arxiv.Search'>, arxiv_exceptions=(<class 'arxiv.ArxivError'>, <class 'arxiv.UnexpectedEmptyPageError'>, <class 'arxiv.HTTPError'>), top_k_results=2, ARXIV_MAX_QUERY_LENGTH=300, continue_on_failure=False, load_max_docs=100, load_all_available_meta=False, doc_content_chars_max=4000)\n",
      "api_wrapper=WikipediaAPIWrapper(wiki_client=<module 'wikipedia' from 'd:\\\\Code\\\\Python\\\\agentic-ai-app\\\\venv\\\\Lib\\\\site-packages\\\\wikipedia\\\\__init__.py'>, top_k_results=1, lang='en', load_all_available_meta=False, doc_content_chars_max=4000)\n"
     ]
    }
   ],
   "source": [
    "# Arxiv and Wiki tools\n",
    "\n",
    "from langchain_community.tools import ArxivQueryRun, WikipediaQueryRun \n",
    "from langchain_community.utilities import ArxivAPIWrapper, WikipediaAPIWrapper\n",
    "\n",
    "api_wrapper_arxiv = ArxivAPIWrapper(top_k_results=2, doc_content_chars=250)\n",
    "arxiv = ArxivQueryRun(api_wrapper = api_wrapper_arxiv)\n",
    "print(arxiv)\n",
    "\n",
    "api_wrapper_wiki = WikipediaAPIWrapper(top_k_results=1, doc_content_chars=500)\n",
    "wiki = WikipediaQueryRun(api_wrapper = api_wrapper_wiki)\n",
    "print(wiki)"
   ]
  },
  {
   "cell_type": "code",
   "execution_count": 9,
   "id": "4495c2db",
   "metadata": {},
   "outputs": [
    {
     "name": "stderr",
     "output_type": "stream",
     "text": [
      "C:\\Users\\indra\\AppData\\Local\\Temp\\ipykernel_18484\\1043150669.py:5: LangChainDeprecationWarning: The class `TavilySearchResults` was deprecated in LangChain 0.3.25 and will be removed in 1.0. An updated version of the class exists in the :class:`~langchain-tavily package and should be used instead. To use it run `pip install -U :class:`~langchain-tavily` and import as `from :class:`~langchain_tavily import TavilySearch``.\n",
      "  tavily = TavilySearchResults()\n"
     ]
    },
    {
     "data": {
      "text/plain": [
       "[{'title': 'Iron Mountain launches updates to its InSight DXP platform',\n",
       "  'url': 'https://www.ironmountain.com/about-us/media-center/press-releases/2025/october/iron-mountain-insight-dxp-platform',\n",
       "  'content': '# Iron Mountain launches updates to its InSight DXP platform - helping enterprises unlock more actionable intelligence with AI\\n\\nIron Mountain (NYSE: IRM), a global leader in information management services, today announced the latest version of its Iron Mountain InSight® DXP platform, engineered to transform passive assets into active intelligence.\\n\\nOctober 21, 2025',\n",
       "  'score': 0.8332299},\n",
       " {'title': 'Ignite: AI - October 21 | Los Angeles - Insights Association',\n",
       "  'url': 'https://www.insightsassociation.org/Events/Ignite-AI-October-21-Los-Angeles',\n",
       "  'content': \"Insights Association\\nInsights Association\\nInsights Association\\n\\nImportant Notice: The Insights Association\\ndoes not sell attendee lists or\\nauthorize third-party vendors to book hotel rooms or manage event registrations.\\n  \\n Any message claiming to offer these services—\\neven if it includes IA branding, event logos, or email signatures—is\\nfraudulent.\\n\\n### Los Angeles, CA | October 21, 2025\\n\\n# Ignite: AI [...] Whether you’re experimenting with AI tools or integrating them into core processes,\\n  \\nIgnite: AI, October 21 in Los Angeles, delivers.\\n\\n### AI Applied: Actual Insights Use Cases, Practical Solutions, Reality-based Discussions\\n\\n#### Join us for a day filled with expert-led presentations and case studies, candid panel discussions, and networking with peers who share your desire to optimize the latest GenAI tools.\\n\\nimage\\n\\n#### Schedule [...] Explore a dynamic agenda packed with keynotes, panels and case studies designed to deliver actionable insights.\\n\\nimage\\n\\n#### Presenters\\n\\nHear directly from insights leaders and outside experts who are shaping the future use of AI in marketing and research.\\n\\nimage\\n\\n#### Partners\\n\\nConnect with leading sponsors showcasing innovative solutions that elevate the insights and analytics industry.\\n\\n###### Agenda Highlights\\n\\n## We've Got You Covered\",\n",
       "  'score': 0.73138535},\n",
       " {'title': 'AI Update, October 17, 2025: AI News and Views From the Past Week',\n",
       "  'url': 'https://www.marketingprofs.com/opinions/2025/53855/ai-update-october-17-2025-ai-news-and-views-from-the-past-week',\n",
       "  'content': 'evolve into AI-powered creative tools, marketers should expect faster asset generation, better workflow automation, and new opportunities for personalized content creation directly within everyday software. [...] policy, marketers should expect new workforce transparency and compliance standards. AI adoption in marketing must account for ethical labor implications and evolving employee-skill expectations. [...] AI interactions with minors. Marketers should prepare for tighter compliance, transparent labeling, and stricter content and data policies in digital campaigns targeting younger audiences.',\n",
       "  'score': 0.58237284},\n",
       " {'title': 'AI News | October 11–17, 2025: 10 Most Significant AI ... - Medium',\n",
       "  'url': 'https://medium.com/@CherryZhouTech/ai-news-october-11-17-2025-10-most-significant-ai-developments-this-week-ae2245fc4885',\n",
       "  'content': 'Anthropic has launched a new “Skills” feature for its AI assistant Claude, enabling users to create or load skill packages containing specific instructions, executable scripts, and relevant resources.\\n\\nClaude can automatically invoke these skills to complete tasks, significantly enhancing workflow automation and output consistency. This update aims to streamline complex operations while maintaining precision, positioning Claude as a more adaptive and efficient tool for professional use cases. [...] Anthropic has released a Microsoft 365 connector, enabling users to interact with Claude directly within apps like SharePoint, OneDrive, Outlook, and Teams.\\n\\nThis integration facilitates seamless access to information and communication, offering personalized assistance while maintaining data context across the Microsoft ecosystem.\\n\\n### 9. Google Releases Veo 3.1 Video Generation Model\\n\\nGoogle has unveiled Veo 3.1, an upgraded version of its Veo 3 video model launched in May. [...] ### 4. Kayak Launches “AI Mode” for Travel Planning\\n\\nKayak Launches “AI Mode”\\n\\nTravel search engine Kayak has unveiled an “AI Mode,” integrating a built-in chatbot to help users research, plan, and book trips directly on its website.\\n\\nAvailable on desktop and mobile web, the feature enables travelers to ask questions about flights, hotels, and car rentals, offering real-time comparisons and recommendations to simplify the booking process.',\n",
       "  'score': 0.528753},\n",
       " {'title': \"Microsoft's fall update: Every PC becomes an AI computer\",\n",
       "  'url': 'https://www.jpost.com/consumerism/article-870894',\n",
       "  'content': '#### Sites Of Interest\\n\\nCopyright ©2025 Jpost Inc. All rights reserved\\n\\n•\\n\\n• [...] The Al Jazeera Media Network logo is seen inside its headquarters in Doha, Qatar June 8, 2017.\\nU.S. Vice President JD Vance boards Air Force Two en route to Israel at Joint Base Andrews, Maryland, U.S., October 20, 2025\\n\\n### US Vice President JD Vance en route to Israel\\n\\nJewish-American chess grandmaster Daniel Naroditsky\\n\\n### Jewish chess grandmaster passes away at 29\\n\\nThe Jerusalem Post - Israel News\\n\\n#### Information\\n\\n#### The Jerusalem Post Group\\n\\n#### Tools and services [...] The Jerusalem Post - Israel News\\n\\n# Microsoft’s fall update: Every PC becomes an AI computer\\n\\n## As part of the Fall Moments update, Microsoft announced a series of updates that turn any Windows 11 PC receiving the update into a computer with AI-powered vision and listening capabilities.\\n\\nWindows 11 Fall Moments launch with AI PCs \\n\\n### See more on',\n",
       "  'score': 0.491725}]"
      ]
     },
     "execution_count": 9,
     "metadata": {},
     "output_type": "execute_result"
    }
   ],
   "source": [
    "# Tavily tool for web search \n",
    "\n",
    "from langchain_community.tools.tavily_search import TavilySearchResults \n",
    "\n",
    "tavily = TavilySearchResults()\n",
    "tavily.invoke(\"What is the current AI news in Oct 21, 2025?\")"
   ]
  },
  {
   "cell_type": "code",
   "execution_count": 11,
   "id": "03f9d075",
   "metadata": {},
   "outputs": [],
   "source": [
    "tools = [arxiv, wiki, tavily]"
   ]
  },
  {
   "cell_type": "code",
   "execution_count": 25,
   "id": "31e27a6d",
   "metadata": {},
   "outputs": [],
   "source": [
    "from langchain_groq import ChatGroq \n",
    "\n",
    "llm = ChatGroq(model=\"openai/gpt-oss-20b\")\n",
    "llm_with_tools = llm.bind_tools(tools)"
   ]
  },
  {
   "cell_type": "code",
   "execution_count": 27,
   "id": "05381233",
   "metadata": {},
   "outputs": [
    {
     "data": {
      "text/plain": [
       "[{'name': 'tavily_search_results_json',\n",
       "  'args': {'query': 'Attention Is All You Need paper summary'},\n",
       "  'id': 'fc_12cfbc6e-0590-416c-b903-0299e2ce75e0',\n",
       "  'type': 'tool_call'}]"
      ]
     },
     "execution_count": 27,
     "metadata": {},
     "output_type": "execute_result"
    }
   ],
   "source": [
    "from langchain_core.messages import HumanMessage\n",
    "\n",
    "llm_with_tools.invoke([\n",
    "    HumanMessage(content=\"Attention is all you need\")\n",
    "]).tool_calls"
   ]
  },
  {
   "cell_type": "markdown",
   "id": "db765756",
   "metadata": {},
   "source": [
    "#### LangGraph multiple tools"
   ]
  },
  {
   "cell_type": "code",
   "execution_count": 24,
   "id": "02430904",
   "metadata": {},
   "outputs": [],
   "source": [
    "# State schema\n",
    "\n",
    "from typing_extensions import TypedDict\n",
    "from langchain_core.messages import AnyMessage\n",
    "from typing import Annotated\n",
    "from langgraph.graph.message import add_messages\n",
    "\n",
    "class State(TypedDict):\n",
    "    messages: Annotated[list[AnyMessage], add_messages]"
   ]
  },
  {
   "cell_type": "code",
   "execution_count": 28,
   "id": "cf7c4d09",
   "metadata": {},
   "outputs": [],
   "source": [
    "# Node definition \n",
    "def tool_calling_llm(state: State):\n",
    "    return {\"messages\": llm_with_tools.invoke(state[\"messages\"])}"
   ]
  },
  {
   "cell_type": "code",
   "execution_count": 49,
   "id": "ebf9c286",
   "metadata": {},
   "outputs": [
    {
     "data": {
      "image/png": "[encoded data removed]",
      "text/plain": [
       "<IPython.core.display.Image object>"
      ]
     },
     "metadata": {},
     "output_type": "display_data"
    }
   ],
   "source": [
    "from IPython.display import Image, display\n",
    "from langgraph.graph import StateGraph, START, END\n",
    "from langgraph.prebuilt import ToolNode, tools_condition\n",
    "from langgraph.checkpoint.memory import MemorySaver\n",
    "\n",
    "memory = MemorySaver()\n",
    "\n",
    "# Build Graph \n",
    "builder = StateGraph(State)\n",
    "builder.add_node(\"tool_calling_llm\", tool_calling_llm)\n",
    "builder.add_node(\"tools\", ToolNode(tools))\n",
    "\n",
    "builder.add_edge(START, \"tool_calling_llm\")\n",
    "builder.add_conditional_edges(\"tool_calling_llm\", tools_condition)\n",
    "# builder.add_edge(\"tools\", END)\n",
    "builder.add_edge(\"tools\", \"tool_calling_llm\")\n",
    "\n",
    "# graph = builder.compile()\n",
    "graph = builder.compile(checkpointer=memory)\n",
    "\n",
    "display(Image(graph.get_graph().draw_mermaid_png()))"
   ]
  },
  {
   "cell_type": "code",
   "execution_count": null,
   "id": "e650426b",
   "metadata": {},
   "outputs": [],
   "source": [
    "config = {\n",
    "    \"configurable\": {\"thread_id\": 2}\n",
    "}"
   ]
  },
  {
   "cell_type": "code",
   "execution_count": 54,
   "id": "06aa580b",
   "metadata": {},
   "outputs": [
    {
     "name": "stdout",
     "output_type": "stream",
     "text": [
      "HumanMessage(content='What is 52+77?', additional_kwargs={}, response_metadata={}, id='5e613747-4924-426d-9493-44221a80fa21')\n",
      "AIMessage(content='52\\u202f+\\u202f77\\u202f=\\u202f**129**', additional_kwargs={'reasoning_content': 'The user asks a simple arithmetic: 52+77. The sum is 129. No need for external tools.'}, response_metadata={'token_usage': {'completion_tokens': 45, 'prompt_tokens': 292, 'total_tokens': 337, 'completion_time': 0.044033845, 'prompt_time': 0.017912151, 'queue_time': 0.048776539, 'total_time': 0.061945996}, 'model_name': 'openai/gpt-oss-20b', 'system_fingerprint': 'fp_3d587a02fb', 'service_tier': 'on_demand', 'finish_reason': 'stop', 'logprobs': None}, id='run--2a7ec28b-0003-44eb-8952-8f591ab10020-0', usage_metadata={'input_tokens': 292, 'output_tokens': 45, 'total_tokens': 337})\n",
      "HumanMessage(content='Add 10 to it', additional_kwargs={}, response_metadata={}, id='e36a61e8-18fb-42dc-90e2-ef3eaf67ef46')\n",
      "AIMessage(content='139', additional_kwargs={'reasoning_content': 'User asks: \"Add 10 to it\". They previously asked 52+77=129. So now add 10: 129+10=139.'}, response_metadata={'token_usage': {'completion_tokens': 44, 'prompt_tokens': 318, 'total_tokens': 362, 'completion_time': 0.043051712, 'prompt_time': 0.003834456, 'queue_time': 0.047304174, 'total_time': 0.046886168, 'prompt_tokens_details': {'cached_tokens': 256}}, 'model_name': 'openai/gpt-oss-20b', 'system_fingerprint': 'fp_3d587a02fb', 'service_tier': 'on_demand', 'finish_reason': 'stop', 'logprobs': None}, id='run--de394ba6-6844-49a5-ac41-290104072c09-0', usage_metadata={'input_tokens': 318, 'output_tokens': 44, 'total_tokens': 362})\n",
      "HumanMessage(content='What is 52+77?', additional_kwargs={}, response_metadata={}, id='abe19649-5b2c-4258-a06d-1c0406c3abde')\n",
      "AIMessage(content='52\\u202f+\\u202f77\\u202f=\\u202f**129**', additional_kwargs={'reasoning_content': 'The user asks the same question again. We should answer 129.'}, response_metadata={'token_usage': {'completion_tokens': 35, 'prompt_tokens': 336, 'total_tokens': 371, 'completion_time': 0.034216807, 'prompt_time': 0.005381399, 'queue_time': 0.047526561, 'total_time': 0.039598206, 'prompt_tokens_details': {'cached_tokens': 256}}, 'model_name': 'openai/gpt-oss-20b', 'system_fingerprint': 'fp_80501ff3a1', 'service_tier': 'on_demand', 'finish_reason': 'stop', 'logprobs': None}, id='run--d8742833-3a61-440c-9f67-ffcd1499e107-0', usage_metadata={'input_tokens': 336, 'output_tokens': 35, 'total_tokens': 371})\n",
      "HumanMessage(content='Add 10 to it', additional_kwargs={}, response_metadata={}, id='7333b02e-5023-4b16-b35c-48d899bb2221')\n",
      "AIMessage(content='139', additional_kwargs={'reasoning_content': 'The user repeats: \"What is 52+77? Add 10 to it\". They want 52+77=129, then add 10 => 139. So answer 139.'}, response_metadata={'token_usage': {'completion_tokens': 51, 'prompt_tokens': 362, 'total_tokens': 413, 'completion_time': 0.050177103, 'prompt_time': 0.007635872, 'queue_time': 0.048731938, 'total_time': 0.057812975, 'prompt_tokens_details': {'cached_tokens': 256}}, 'model_name': 'openai/gpt-oss-20b', 'system_fingerprint': 'fp_3d587a02fb', 'service_tier': 'on_demand', 'finish_reason': 'stop', 'logprobs': None}, id='run--27347b7b-808f-455d-9641-a74238df637e-0', usage_metadata={'input_tokens': 362, 'output_tokens': 51, 'total_tokens': 413})\n",
      "HumanMessage(content='What is 52+77?', additional_kwargs={}, response_metadata={}, id='1cdc388a-6d5b-4e5c-bcc9-61ee43a12d08')\n",
      "AIMessage(content='52\\u202f+\\u202f77\\u202f=\\u202f**129**', additional_kwargs={'reasoning_content': 'The user repeatedly asks \"What is 52+77?\" and then \"Add 10 to it.\" The assistant gave correct answers: 129 and 139. The user repeats. Possibly they want the same answer again. We should respond with 129, then maybe ask if they need anything else.'}, response_metadata={'token_usage': {'completion_tokens': 82, 'prompt_tokens': 380, 'total_tokens': 462, 'completion_time': 0.081060874, 'prompt_time': 0.007110295, 'queue_time': 0.047330536, 'total_time': 0.088171169, 'prompt_tokens_details': {'cached_tokens': 256}}, 'model_name': 'openai/gpt-oss-20b', 'system_fingerprint': 'fp_80501ff3a1', 'service_tier': 'on_demand', 'finish_reason': 'stop', 'logprobs': None}, id='run--ecf975f5-6328-455d-9a0c-821fae26a01b-0', usage_metadata={'input_tokens': 380, 'output_tokens': 82, 'total_tokens': 462})\n",
      "HumanMessage(content='Add 10 to it', additional_kwargs={}, response_metadata={}, id='1fe3054c-fd09-4ecc-8d13-036070f55bba')\n",
      "AIMessage(content='52\\u202f+\\u202f77\\u202f=\\u202f129  \\nAdd 10 → **139**', additional_kwargs={'reasoning_content': \"User repeatedly asks 52+77, add 10. It's 139. Provide answer.\"}, response_metadata={'token_usage': {'completion_tokens': 46, 'prompt_tokens': 406, 'total_tokens': 452, 'completion_time': 0.045023529, 'prompt_time': 0.009882727, 'queue_time': 0.046786793, 'total_time': 0.054906256, 'prompt_tokens_details': {'cached_tokens': 256}}, 'model_name': 'openai/gpt-oss-20b', 'system_fingerprint': 'fp_77f8660d1d', 'service_tier': 'on_demand', 'finish_reason': 'stop', 'logprobs': None}, id='run--159e5317-f2bf-4f8c-826e-23c6459ea23f-0', usage_metadata={'input_tokens': 406, 'output_tokens': 46, 'total_tokens': 452})\n"
     ]
    }
   ],
   "source": [
    "from pprint import pprint\n",
    "\n",
    "messages = graph.invoke({\n",
    "    \"messages\": HumanMessage(content=\"What is 52+77?\")\n",
    "}, config=config)\n",
    "\n",
    "messages = graph.invoke({\n",
    "    \"messages\": HumanMessage(content=\"Add 10 to it\")\n",
    "}, config=config)\n",
    "\n",
    "for msg in messages[\"messages\"]:\n",
    "    pprint(msg)"
   ]
  }
 ],
 "metadata": {
  "kernelspec": {
   "display_name": "Python 3",
   "language": "python",
   "name": "python3"
  },
  "language_info": {
   "codemirror_mode": {
    "name": "ipython",
    "version": 3
   },
   "file_extension": ".py",
   "mimetype": "text/x-python",
   "name": "python",
   "nbconvert_exporter": "python",
   "pygments_lexer": "ipython3",
   "version": "3.12.0"
  }
 },
 "nbformat": 4,
 "nbformat_minor": 5
}
